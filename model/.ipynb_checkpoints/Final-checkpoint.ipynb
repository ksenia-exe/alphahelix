{
 "cells": [
  {
   "cell_type": "markdown",
   "metadata": {},
   "source": [
    "<h3 style=\"background-color: #daebff; border-color: #bad5f6; border-left: 5px solid #bad5f6; padding: 1.5em; color: #6f89a9\">\n",
    "Secondary Structure Classifier\n",
    "</h3>"
   ]
  },
  {
   "cell_type": "markdown",
   "metadata": {},
   "source": [
    "## Importing packages and setting up paths to training and testing files"
   ]
  },
  {
   "cell_type": "code",
   "execution_count": 83,
   "metadata": {},
   "outputs": [],
   "source": [
    "training_labels_path = \"Training_Labels.txt\"\n",
    "testing_labels_path = \"Testing_Labels.txt\"\n",
    "expasy_aa_scales_path = \"Expasy_AA_Scales.txt\"\n",
    "training_labels_path_short = \"Training_Labels_short.txt\""
   ]
  },
  {
   "cell_type": "code",
   "execution_count": 84,
   "metadata": {},
   "outputs": [],
   "source": [
    "import pandas as pd\n",
    "import numpy as np\n",
    "import matplotlib.pyplot as plt\n",
    "\n",
    "from sklearn.ensemble import RandomForestClassifier, GradientBoostingRegressor, AdaBoostClassifier\n",
    "from sklearn.model_selection import GridSearchCV, cross_val_score\n",
    "from sklearn.neighbors import KNeighborsClassifier\n",
    "from sklearn.metrics import roc_auc_score, roc_curve, auc, classification_report, plot_roc_curve\n",
    "from sklearn import preprocessing\n",
    "\n",
    "import urllib.request\n",
    "from joblib import dump, load"
   ]
  },
  {
   "cell_type": "code",
   "execution_count": null,
   "metadata": {},
   "outputs": [],
   "source": []
  },
  {
   "cell_type": "markdown",
   "metadata": {},
   "source": [
    "## Feature Engineering"
   ]
  },
  {
   "cell_type": "code",
   "execution_count": null,
   "metadata": {},
   "outputs": [],
   "source": []
  },
  {
   "cell_type": "markdown",
   "metadata": {},
   "source": [
    "First we create a table of features by joining the table with labels and the table with Expasy AA scales on the corresponding amino acid. Then we calculate the following features:\n",
    "- Feature blurring with a traingular window of 9 based on **average** value of the window \n",
    "- Feature blurring with a traingular window of 9 based on **maximum** value of the window \n",
    "\n",
    "These two types of features are useful because that is how the scale profile is usually computed. We cannot just rely on the value exactly at that position so we can consider the average of the window and also the maximum value of the window.\n",
    "\n",
    "Here, we are using linear weight variation model which weighs the points that are closer to the center more.\n",
    "\n",
    "I tried normalizing the data, but at the end, it did not change the AUC so it is commented out. I also experimented with the size of the window and 9 seems to work the best."
   ]
  },
  {
   "cell_type": "code",
   "execution_count": 118,
   "metadata": {},
   "outputs": [],
   "source": [
    "#Creates a triple of set X, set Y, and set X again but with UniProt column still included\n",
    "#Features: blurring with a window of 9 for avg and max window values\n",
    "def get_x_y(path, df = False):\n",
    "    if df:\n",
    "        train_df = path\n",
    "    else:\n",
    "        train_df = pd.read_csv(path, sep=\"\\t\")\n",
    "    #reading in the file with labels and Expasy AA scales\n",
    "    aa_df = pd.read_csv(expasy_aa_scales_path, sep=\"\\t\")\n",
    "    aa_df = aa_df.rename(columns={\"Amino Acid\": \"AA\"})\n",
    "    #Merging the df's on 'Amino Acid'\n",
    "    train_df_m = pd.merge(train_df, aa_df, how='left', on=['AA'])\n",
    "    #Keeping the Label for Y set\n",
    "    train_y = pd.DataFrame(data=train_df_m[\"Label\"], columns=[\"Label\"])\n",
    "    \n",
    "    #Removing columns that include Position, Label, UniProt\n",
    "    cols = list(train_df_m)[4:]\n",
    "    #Feature blurring with a window of 9 based on average value of the window\n",
    "    train_x_win_avg = train_df_m.groupby(\"UniProt\")[cols].rolling(9, center=True, min_periods=1,win_type='triang').mean()\n",
    "    train_x_win_avg = train_x_win_avg.add_suffix('_avg')\n",
    "    #Feature blurring with a window of 9 based on maximum value of the window\n",
    "    train_x_win_max = train_df_m.groupby(\"UniProt\")[cols].rolling(9, center=True, min_periods=1,win_type='triang').max()\n",
    "    train_x_win_max = train_x_win_max.add_suffix('_max')\n",
    "    #Concatenating the two types of features\n",
    "    train_x_win_avg=pd.concat([train_x_win_avg, train_x_win_max], axis=1)\n",
    "    train_x = train_x_win_avg.reset_index().drop([\"UniProt\",\"level_1\"], axis=1)\n",
    "    uniprot_df = train_x_win_avg.reset_index().drop([\"level_1\"], axis=1)\n",
    "#     min_max_scaler = preprocessing.MinMaxScaler()\n",
    "#     train_x = pd.DataFrame(min_max_scaler.fit_transform(train_x), columns = train_x.columns)\n",
    "#     uniprot_df = pd.DataFrame(min_max_scaler.fit_transform(uniprot_df), columns = train_x.columns[1:])\n",
    "    return train_x,train_y,uniprot_df\n",
    "# FUNCTION END"
   ]
  },
  {
   "cell_type": "code",
   "execution_count": 119,
   "metadata": {},
   "outputs": [],
   "source": [
    "train_x_full,train_y_full,train_uniprot = get_x_y(training_labels_path)"
   ]
  },
  {
   "cell_type": "code",
   "execution_count": 113,
   "metadata": {},
   "outputs": [],
   "source": []
  },
  {
   "cell_type": "code",
   "execution_count": null,
   "metadata": {},
   "outputs": [],
   "source": []
  },
  {
   "cell_type": "markdown",
   "metadata": {},
   "source": [
    "## Data Exploration and Feature Selection\n",
    "In this section, we look at a couple of box plots to see if there is visual difference between the labels. Since we derived two types of features from the same expasy scale (avg and max), we can graph them side by side."
   ]
  },
  {
   "cell_type": "code",
   "execution_count": null,
   "metadata": {},
   "outputs": [],
   "source": [
    "df_full = pd.concat([train_x_full, train_y_full], axis=1)"
   ]
  },
  {
   "cell_type": "markdown",
   "metadata": {},
   "source": [
    "The plot below shows that this feature does not have the 0 and 1 label at the same level (at least for the figure on the left which shows the average of the window). Hence, we can make an assumption that *alpha_helix__Deleage_&_Roux* might be an important feature."
   ]
  },
  {
   "cell_type": "code",
   "execution_count": 155,
   "metadata": {
    "scrolled": true
   },
   "outputs": [
    {
     "data": {
      "text/plain": [
       "array([<matplotlib.axes._subplots.AxesSubplot object at 0x7f18adf45310>,\n",
       "       <matplotlib.axes._subplots.AxesSubplot object at 0x7f18ad9a2fd0>],\n",
       "      dtype=object)"
      ]
     },
     "execution_count": 155,
     "metadata": {},
     "output_type": "execute_result"
    },
    {
     "data": {
      "image/png": "[encoded data removed]",
      "text/plain": [
       "<Figure size 432x288 with 2 Axes>"
      ]
     },
     "metadata": {
      "needs_background": "light"
     },
     "output_type": "display_data"
    }
   ],
   "source": [
    "df_full.boxplot(column=['alpha_helix__Deleage_&_Roux_avg', 'alpha_helix__Deleage_&_Roux_max'], by='Label', sym='')"
   ]
  },
  {
   "cell_type": "markdown",
   "metadata": {},
   "source": [
    "The boxplot below shows also shows a feature that does not have 0 and 1 label at the same level (for the avg window). So here we can also we can make an assumption that *alpha_helix__Levitt* might be an important feature."
   ]
  },
  {
   "cell_type": "code",
   "execution_count": 159,
   "metadata": {},
   "outputs": [
    {
     "data": {
      "text/plain": [
       "array([<matplotlib.axes._subplots.AxesSubplot object at 0x7f18ae29db50>,\n",
       "       <matplotlib.axes._subplots.AxesSubplot object at 0x7f18adb445e0>],\n",
       "      dtype=object)"
      ]
     },
     "execution_count": 159,
     "metadata": {},
     "output_type": "execute_result"
    },
    {
     "data": {
      "image/png": "[encoded data removed]",
      "text/plain": [
       "<Figure size 432x288 with 2 Axes>"
      ]
     },
     "metadata": {
      "needs_background": "light"
     },
     "output_type": "display_data"
    }
   ],
   "source": [
    "df_full.boxplot(column=['alpha_helix__Levitt_avg','alpha_helix__Levitt_max'], by='Label', sym='')"
   ]
  },
  {
   "cell_type": "markdown",
   "metadata": {},
   "source": [
    "On the other hand, on the boxplot below the 0 and 1 labels are at almost the exact same level, so we can make an assumption that *HPLC__retention_pH_74* is not an important feature."
   ]
  },
  {
   "cell_type": "code",
   "execution_count": 160,
   "metadata": {},
   "outputs": [
    {
     "data": {
      "text/plain": [
       "array([<matplotlib.axes._subplots.AxesSubplot object at 0x7f18adce2a00>,\n",
       "       <matplotlib.axes._subplots.AxesSubplot object at 0x7f18ada526d0>],\n",
       "      dtype=object)"
      ]
     },
     "execution_count": 160,
     "metadata": {},
     "output_type": "execute_result"
    },
    {
     "data": {
      "image/png": "[encoded data removed]",
      "text/plain": [
       "<Figure size 432x288 with 2 Axes>"
      ]
     },
     "metadata": {
      "needs_background": "light"
     },
     "output_type": "display_data"
    }
   ],
   "source": [
    "df_full.boxplot(column=['HPLC__retention_pH_74_avg', 'HPLC__retention_pH_74_max'], by='Label', sym='')"
   ]
  },
  {
   "cell_type": "markdown",
   "metadata": {},
   "source": [
    "Instead of doing these boxplots 1 by 1 and deciding which feature is important we can do some feature selection which is discussed after the removal of highly correlated features."
   ]
  },
  {
   "cell_type": "code",
   "execution_count": null,
   "metadata": {},
   "outputs": [],
   "source": []
  },
  {
   "cell_type": "code",
   "execution_count": null,
   "metadata": {},
   "outputs": [],
   "source": []
  },
  {
   "cell_type": "markdown",
   "metadata": {},
   "source": [
    "### Assess correlation and remove highly correlated features\n",
    "Below is a graph of all 114 features and their correlations. The dark colors show that some pairs of features are highly correlated.\n",
    "\n",
    "We can find the ones where correlation is higher than 0.8 and remove these features. We are left with 42 features."
   ]
  },
  {
   "cell_type": "code",
   "execution_count": 120,
   "metadata": {},
   "outputs": [
    {
     "data": {
      "text/plain": [
       "<matplotlib.image.AxesImage at 0x7f2b1b97d340>"
      ]
     },
     "execution_count": 120,
     "metadata": {},
     "output_type": "execute_result"
    },
    {
     "data": {
      "image/png": "[encoded data removed]",
      "text/plain": [
       "<Figure size 432x288 with 1 Axes>"
      ]
     },
     "metadata": {
      "needs_background": "light"
     },
     "output_type": "display_data"
    }
   ],
   "source": [
    "cor=np.corrcoef(train_x_full.values, rowvar=False)\n",
    "plt.imshow(cor)"
   ]
  },
  {
   "cell_type": "code",
   "execution_count": null,
   "metadata": {},
   "outputs": [],
   "source": []
  },
  {
   "cell_type": "code",
   "execution_count": 121,
   "metadata": {
    "scrolled": true
   },
   "outputs": [],
   "source": [
    "# Find column names with correlation higher than 0.8\n",
    "corr = set()\n",
    "for col in range(train_x_full.shape[1]):\n",
    "    corr |= set([train_x_full.columns[col] for colx in range(col) if abs(cor[col,colx]) > 0.8])\n",
    "noncorr = set(train_x_full.columns) - corr"
   ]
  },
  {
   "cell_type": "code",
   "execution_count": 122,
   "metadata": {},
   "outputs": [],
   "source": [
    "def select_columns(df, select):\n",
    "    return df.loc[:,select]\n",
    "# FUNCTION END"
   ]
  },
  {
   "cell_type": "code",
   "execution_count": 123,
   "metadata": {},
   "outputs": [
    {
     "data": {
      "text/plain": [
       "(378314, 42)"
      ]
     },
     "execution_count": 123,
     "metadata": {},
     "output_type": "execute_result"
    }
   ],
   "source": [
    "# Remove features with correlation higher than 0.8\n",
    "train_x_full = select_columns(train_x_full,noncorr)\n",
    "train_x_full.shape"
   ]
  },
  {
   "cell_type": "code",
   "execution_count": null,
   "metadata": {},
   "outputs": [],
   "source": []
  },
  {
   "cell_type": "markdown",
   "metadata": {},
   "source": [
    "### Feature Selection\n",
    "We can use Recursive Feature Elimination to do further feature selection. This method starts with the full model and then drops *n* features (in this case 3, not 1, due to time out computation issues) and refits it."
   ]
  },
  {
   "cell_type": "code",
   "execution_count": 126,
   "metadata": {},
   "outputs": [
    {
     "data": {
      "text/plain": [
       "<matplotlib.image.AxesImage at 0x7f2b1ba54c10>"
      ]
     },
     "execution_count": 126,
     "metadata": {},
     "output_type": "execute_result"
    },
    {
     "data": {
      "image/png": "[encoded data removed]",
      "text/plain": [
       "<Figure size 1152x144 with 1 Axes>"
      ]
     },
     "metadata": {
      "needs_background": "light"
     },
     "output_type": "display_data"
    }
   ],
   "source": [
    "from sklearn.feature_selection import RFE\n",
    "# Create RFE selector with RandomForestClassifier\n",
    "select = RFE(RandomForestClassifier(n_estimators=100, max_features = 'sqrt', max_depth = 10), n_features_to_select=20, step=3)\n",
    "train_y_ravel = train_y_full.values.ravel()\n",
    "# Run the selector\n",
    "select.fit(train_x_full[:97480], train_y_ravel[:97480])\n",
    "# Visualize the selected features\n",
    "mask = select.get_support()\n",
    "plt.matshow(mask.reshape(1, -1), cmap='gray_r')"
   ]
  },
  {
   "cell_type": "code",
   "execution_count": 127,
   "metadata": {},
   "outputs": [
    {
     "data": {
      "text/plain": [
       "['beta_turn__Deleage_&_Roux_max',\n",
       " '%_accessible_residues_avg',\n",
       " 'AA_composition_max',\n",
       " 'beta_sheet__Deleage_&_Roux_avg',\n",
       " 'AA_composition_avg',\n",
       " 'Refractivity_avg',\n",
       " 'Bulkiness_avg',\n",
       " 'beta_turn__Deleage_&_Roux_avg',\n",
       " 'Hphob__Wolfenden_et_al_avg',\n",
       " 'Coil__Deleage_&_Roux_avg',\n",
       " 'Ratio_hetero_endside_avg',\n",
       " 'Coil__Deleage_&_Roux_max',\n",
       " 'Hphob__Black_max',\n",
       " 'beta_sheet__Deleage_&_Roux_max',\n",
       " 'Hphob__Welling_&_al_avg',\n",
       " 'Average_flexibility_avg',\n",
       " 'Recognition_factors_avg',\n",
       " 'Relative_mutability_avg',\n",
       " 'beta_turn__Chou_&_Fasman_max',\n",
       " 'HPLC__retention_pH_74_avg']"
      ]
     },
     "execution_count": 127,
     "metadata": {},
     "output_type": "execute_result"
    }
   ],
   "source": [
    "# List selected features\n",
    "selected = list(train_x_full.iloc[:,list(select.get_support())].columns)\n",
    "selected "
   ]
  },
  {
   "cell_type": "code",
   "execution_count": 131,
   "metadata": {},
   "outputs": [],
   "source": [
    "# This is the same list as above but we don't need to wait for it to be recomputed every time the kernel dies :))\n",
    "selected = ['beta_turn__Deleage_&_Roux_max','%_accessible_residues_avg','AA_composition_max','beta_sheet__Deleage_&_Roux_avg','AA_composition_avg','Refractivity_avg','Bulkiness_avg','beta_turn__Deleage_&_Roux_avg','Hphob__Wolfenden_et_al_avg','Coil__Deleage_&_Roux_avg','Ratio_hetero_endside_avg','Coil__Deleage_&_Roux_max','Hphob__Black_max','beta_sheet__Deleage_&_Roux_max','Hphob__Welling_&_al_avg','Average_flexibility_avg','Recognition_factors_avg','Relative_mutability_avg','beta_turn__Chou_&_Fasman_max','HPLC__retention_pH_74_avg']"
   ]
  },
  {
   "cell_type": "code",
   "execution_count": 132,
   "metadata": {},
   "outputs": [
    {
     "data": {
      "text/plain": [
       "(378314, 20)"
      ]
     },
     "execution_count": 132,
     "metadata": {},
     "output_type": "execute_result"
    }
   ],
   "source": [
    "# Select only the columns selected by RFE\n",
    "train_x_full = select_columns(train_x_full,selected)\n",
    "train_x_full.shape"
   ]
  },
  {
   "cell_type": "code",
   "execution_count": null,
   "metadata": {},
   "outputs": [],
   "source": []
  },
  {
   "cell_type": "code",
   "execution_count": null,
   "metadata": {},
   "outputs": [],
   "source": []
  },
  {
   "cell_type": "markdown",
   "metadata": {},
   "source": [
    "### Split into train and validation sets\n",
    "We can split the training set by 75:25 into training and validation sets. If we were to use train_test_split, then the observations would be randomly selected into train and validation sets which will break up the proteins into separate groups. We probably want to keep the groupped proteins together.\n",
    "\n",
    "Hence, we can split the dataset around the 75:25 mark but round it to the closest group. Although, this removes some randomness, we can later use cross validation to see if the classifier does well."
   ]
  },
  {
   "cell_type": "code",
   "execution_count": 133,
   "metadata": {},
   "outputs": [],
   "source": [
    "split_idx = 264880\n",
    "train_x = train_x_full[:split_idx] \n",
    "train_y = train_y_full[:split_idx]\n",
    "val_x = train_x_full[split_idx:]\n",
    "val_y = train_y_full[split_idx:]\n",
    "train_y = train_y.values.ravel()\n",
    "val_y = val_y.values.ravel()"
   ]
  },
  {
   "cell_type": "code",
   "execution_count": null,
   "metadata": {},
   "outputs": [],
   "source": []
  },
  {
   "cell_type": "code",
   "execution_count": 15,
   "metadata": {},
   "outputs": [],
   "source": []
  },
  {
   "cell_type": "markdown",
   "metadata": {},
   "source": [
    "## Random Forest\n",
    "Now we can train the classifier.\n",
    "\n",
    "To do that, we need to select optimal parameters (hyperparameter optimization). This can be done with GridSearchCV. \n",
    "For the ```max_features``` considered for each tree split we can try sqrt and log2 number of parameters. As for the ```max_depth``` of the tree, we can try 5, 10, and 20. We can also determine if we want to use resampling with ```bootsrap```.\n",
    "\n",
    "I only ran this on about 1/3 of the training data (divided at the split between two proteins) because the server kept timing out when the entire dataset was included. We will use the full training dataset once the parameters are selected."
   ]
  },
  {
   "cell_type": "code",
   "execution_count": 66,
   "metadata": {},
   "outputs": [
    {
     "data": {
      "text/plain": [
       "GridSearchCV(estimator=RandomForestClassifier(n_estimators=200,\n",
       "                                              random_state=123),\n",
       "             n_jobs=-1,\n",
       "             param_grid={'bootstrap': [True, False], 'max_depth': [5, 10, 20],\n",
       "                         'max_features': ['sqrt', 'log2']})"
      ]
     },
     "execution_count": 66,
     "metadata": {},
     "output_type": "execute_result"
    }
   ],
   "source": [
    "rf = RandomForestClassifier(n_estimators=200, random_state = 122)\n",
    "parameters = {'max_features':['sqrt', 'log2'],\n",
    "              'max_depth':[5,10,20],\n",
    "              'bootstrap': [True, False]}\n",
    "\n",
    "clf_grid = GridSearchCV(rf, parameters, n_jobs=-1)\n",
    "clf_grid.fit(train_x[:97480], train_y[:97480])"
   ]
  },
  {
   "cell_type": "code",
   "execution_count": 67,
   "metadata": {},
   "outputs": [
    {
     "data": {
      "text/plain": [
       "0.8010208579438264"
      ]
     },
     "execution_count": 67,
     "metadata": {},
     "output_type": "execute_result"
    }
   ],
   "source": [
    "clf_grid.score(val_x, val_y)"
   ]
  },
  {
   "cell_type": "code",
   "execution_count": 68,
   "metadata": {},
   "outputs": [
    {
     "data": {
      "text/plain": [
       "{'bootstrap': True, 'max_depth': 10, 'max_features': 'sqrt'}"
      ]
     },
     "execution_count": 68,
     "metadata": {},
     "output_type": "execute_result"
    }
   ],
   "source": [
    "clf_grid.best_params_"
   ]
  },
  {
   "cell_type": "markdown",
   "metadata": {},
   "source": [
    "The parameters selected by the grid are ```boostrap = True, max_features = sqrt```, and  ```max_depth = 10```. So that is what we will use to train the classifier on the full training dataset."
   ]
  },
  {
   "cell_type": "code",
   "execution_count": 134,
   "metadata": {},
   "outputs": [
    {
     "data": {
      "text/plain": [
       "RandomForestClassifier(max_depth=10, max_features='sqrt', n_estimators=200,\n",
       "                       n_jobs=-1, random_state=122)"
      ]
     },
     "execution_count": 134,
     "metadata": {},
     "output_type": "execute_result"
    }
   ],
   "source": [
    "clf = RandomForestClassifier(n_estimators=200, max_features = 'sqrt', max_depth = 10, \n",
    "                             bootstrap = True, random_state = 122, n_jobs=-1)\n",
    "clf.fit(train_x, train_y)"
   ]
  },
  {
   "cell_type": "code",
   "execution_count": 135,
   "metadata": {},
   "outputs": [
    {
     "data": {
      "text/plain": [
       "0.8105506285593385"
      ]
     },
     "execution_count": 135,
     "metadata": {},
     "output_type": "execute_result"
    }
   ],
   "source": [
    "# Accuracy based on the validation set\n",
    "clf.score(val_x, val_y)"
   ]
  },
  {
   "cell_type": "code",
   "execution_count": 69,
   "metadata": {},
   "outputs": [
    {
     "data": {
      "text/plain": [
       "[('Coil__Deleage_&_Roux_avg', 0.28840786254488576),\n",
       " ('Coil__Deleage_&_Roux_max', 0.10691220299871185),\n",
       " ('beta_turn__Deleage_&_Roux_avg', 0.07274793138132787),\n",
       " ('Recognition_factors_avg', 0.06839200820997152),\n",
       " ('Ratio_hetero_endside_avg', 0.05325619839137729),\n",
       " ('beta_sheet__Deleage_&_Roux_avg', 0.043721388166467555),\n",
       " ('Average_flexibility_avg', 0.036994599898003466),\n",
       " ('AA_composition_max', 0.03593951418198285),\n",
       " ('beta_turn__Deleage_&_Roux_max', 0.03313758103559683),\n",
       " ('beta_turn__Chou_&_Fasman_max', 0.030635425579436586),\n",
       " ('Refractivity_avg', 0.029796666146402653),\n",
       " ('beta_sheet__Deleage_&_Roux_max', 0.025216493007955264),\n",
       " ('HPLC__retention_pH_74_avg', 0.02508050811100175),\n",
       " ('Hphob__Wolfenden_et_al_avg', 0.023950398806660028),\n",
       " ('Bulkiness_avg', 0.023735402908576727),\n",
       " ('AA_composition_avg', 0.022479976256720904),\n",
       " ('Hphob__Black_max', 0.02174006149399361),\n",
       " ('Hphob__Welling_&_al_avg', 0.021221957468132144),\n",
       " ('Relative_mutability_avg', 0.019353721315139898),\n",
       " ('%_accessible_residues_avg', 0.017280102097655348)]"
      ]
     },
     "execution_count": 69,
     "metadata": {},
     "output_type": "execute_result"
    }
   ],
   "source": [
    "# Top 15 most important features\n",
    "sorted(list(zip(train_x.columns.values,clf.feature_importances_)), key=lambda x: -x[1])"
   ]
  },
  {
   "cell_type": "code",
   "execution_count": null,
   "metadata": {},
   "outputs": [],
   "source": []
  },
  {
   "cell_type": "markdown",
   "metadata": {},
   "source": [
    "#### Recall\n",
    "Below is the output for the classification table.\n",
    "\n",
    "Specificity is 99% and sensitivity is 6% which means the model is very good at predicting true negatives (0 label when it's actually 0) and is terrible at predicting true positives (1 label when it's actually 1). This can probably be explained by a very zero-inflated dataset."
   ]
  },
  {
   "cell_type": "code",
   "execution_count": 138,
   "metadata": {},
   "outputs": [
    {
     "name": "stdout",
     "output_type": "stream",
     "text": [
      "              precision    recall  f1-score   support\n",
      "\n",
      "           0       0.82      0.99      0.89     91880\n",
      "           1       0.51      0.06      0.10     21554\n",
      "\n",
      "    accuracy                           0.81    113434\n",
      "   macro avg       0.67      0.52      0.50    113434\n",
      "weighted avg       0.76      0.81      0.74    113434\n",
      "\n"
     ]
    }
   ],
   "source": [
    "pred_y_label = clf.predict(val_x)\n",
    "print(classification_report(val_y, pred_y_label))"
   ]
  },
  {
   "cell_type": "markdown",
   "metadata": {},
   "source": [
    "### ROC AUC\n",
    "The AUC score is 0.714."
   ]
  },
  {
   "cell_type": "code",
   "execution_count": 136,
   "metadata": {},
   "outputs": [
    {
     "data": {
      "text/plain": [
       "0.7136108783725674"
      ]
     },
     "execution_count": 136,
     "metadata": {},
     "output_type": "execute_result"
    }
   ],
   "source": [
    "pred_y = clf.predict_proba(val_x)[:, 1]\n",
    "auc = roc_auc_score(val_y, pred_y)\n",
    "auc"
   ]
  },
  {
   "cell_type": "code",
   "execution_count": 137,
   "metadata": {},
   "outputs": [
    {
     "data": {
      "image/png": "[encoded data removed]",
      "text/plain": [
       "<Figure size 432x288 with 1 Axes>"
      ]
     },
     "metadata": {
      "needs_background": "light"
     },
     "output_type": "display_data"
    }
   ],
   "source": [
    "fpr, tpr, _ = roc_curve(val_y, pred_y)\n",
    "\n",
    "plt.figure()\n",
    "plt.title('ROC curve')\n",
    "plt.plot([0, 1], [0, 1], 'k--')\n",
    "plt.plot(fpr, tpr, color='navy', label='Random Forest (area = %0.3f)' % auc) \n",
    "plt.legend(loc='lower right')\n",
    "plt.show()"
   ]
  },
  {
   "cell_type": "code",
   "execution_count": null,
   "metadata": {},
   "outputs": [],
   "source": []
  },
  {
   "cell_type": "markdown",
   "metadata": {},
   "source": [
    "#### Cross-Validation\n",
    "We can also assess the model's fit by used K-fold cross-validation. In this case, we can use 5 folds.\n",
    "\n",
    "Since each observation in the train set is dependent on which protein it relates to, we cannot just randomly divide the set because it will split some observations for a protein into two parts. \n",
    "\n",
    "The function below creates the indicies for the folds by grouping the dataset by UniProt and then taking an equal amount of groups into each fold."
   ]
  },
  {
   "cell_type": "code",
   "execution_count": 139,
   "metadata": {},
   "outputs": [],
   "source": [
    "#CV method\n",
    "def yield_cv_fold_indicies(train_uniprot,folds = 5):\n",
    "    cols = list(train_uniprot)[1:]\n",
    "    # Group by UniProt\n",
    "    grouped = train_uniprot.groupby(\"UniProt\")\n",
    "    # Calculate the number of groups per fold\n",
    "    per_fold = int(len(grouped.size())/folds)\n",
    "    prev_idx = 0\n",
    "    for i, g_idx in enumerate(range(per_fold,len(grouped),per_fold)):\n",
    "        if i == folds-1:\n",
    "            return\n",
    "        # Yield an array of indicies to be included in the fold (they are just incremented sequentially)\n",
    "        idx = grouped.size()[:g_idx].sum()\n",
    "        idx_arr = np.arange(prev_idx, idx)\n",
    "        prev_idx = idx\n",
    "        yield idx_arr,idx_arr\n",
    "# FUNCTION END        "
   ]
  },
  {
   "cell_type": "code",
   "execution_count": 140,
   "metadata": {},
   "outputs": [],
   "source": [
    "train_y_array = train_y_full.to_numpy().ravel()\n",
    "train_x_array = train_x_full.to_numpy()"
   ]
  },
  {
   "cell_type": "code",
   "execution_count": 141,
   "metadata": {},
   "outputs": [
    {
     "data": {
      "text/plain": [
       "0.7939555741852499"
      ]
     },
     "execution_count": 141,
     "metadata": {},
     "output_type": "execute_result"
    }
   ],
   "source": [
    "# Get fold indicies\n",
    "cv = yield_cv_fold_indicies(train_uniprot)\n",
    "# Perform cross validation\n",
    "cv_score_arr = cross_val_score(clf, train_x_array, train_y_array, cv=cv)\n",
    "# Get the mean accuracy rate from the 5 folds.\n",
    "np.mean(cv_score_arr)"
   ]
  },
  {
   "cell_type": "markdown",
   "metadata": {},
   "source": [
    "**The accuracy is around 79.4%.**"
   ]
  },
  {
   "cell_type": "code",
   "execution_count": null,
   "metadata": {},
   "outputs": [],
   "source": []
  },
  {
   "cell_type": "code",
   "execution_count": null,
   "metadata": {},
   "outputs": [],
   "source": []
  },
  {
   "cell_type": "markdown",
   "metadata": {},
   "source": [
    "### Assessing accuracy using the testing set\n",
    "Now we can finally see how well the classifier does on the test set."
   ]
  },
  {
   "cell_type": "code",
   "execution_count": 142,
   "metadata": {},
   "outputs": [],
   "source": [
    "# Read in the test dataset and create the features \n",
    "test_x,test_y,test_uniprot = get_x_y(testing_labels_path)"
   ]
  },
  {
   "cell_type": "code",
   "execution_count": 143,
   "metadata": {},
   "outputs": [],
   "source": [
    "# Select only the important features (as derived in the feature selection section)\n",
    "test_x = select_columns(test_x,selected)"
   ]
  },
  {
   "cell_type": "code",
   "execution_count": 144,
   "metadata": {},
   "outputs": [
    {
     "data": {
      "text/plain": [
       "0.7167357597300691"
      ]
     },
     "execution_count": 144,
     "metadata": {},
     "output_type": "execute_result"
    }
   ],
   "source": [
    "# Predict the labels\n",
    "pred_y = clf.predict_proba(test_x)[:, 1]\n",
    "# Get AUC\n",
    "auc = roc_auc_score(test_y, pred_y)\n",
    "auc"
   ]
  },
  {
   "cell_type": "code",
   "execution_count": 145,
   "metadata": {},
   "outputs": [
    {
     "data": {
      "image/png": "[encoded data removed]",
      "text/plain": [
       "<Figure size 432x288 with 1 Axes>"
      ]
     },
     "metadata": {
      "needs_background": "light"
     },
     "output_type": "display_data"
    }
   ],
   "source": [
    "# Draw ROC\n",
    "fpr, tpr, _ = roc_curve(test_y, pred_y)\n",
    "\n",
    "plt.figure()\n",
    "plt.title('ROC curve')\n",
    "plt.plot([0, 1], [0, 1], 'k--')\n",
    "plt.plot(fpr, tpr, color='navy', label='Random Forest (area = %0.3f)' % auc) \n",
    "plt.legend(loc='lower right')\n",
    "plt.show()"
   ]
  },
  {
   "cell_type": "markdown",
   "metadata": {},
   "source": [
    "**The area under the curve is 0.717 based on the test set.**"
   ]
  },
  {
   "cell_type": "code",
   "execution_count": null,
   "metadata": {},
   "outputs": [],
   "source": []
  },
  {
   "cell_type": "code",
   "execution_count": null,
   "metadata": {},
   "outputs": [],
   "source": []
  },
  {
   "cell_type": "code",
   "execution_count": null,
   "metadata": {},
   "outputs": [],
   "source": []
  },
  {
   "cell_type": "code",
   "execution_count": 146,
   "metadata": {},
   "outputs": [],
   "source": [
    "# Saving precalculated features\n",
    "df_features=pd.concat([train_uniprot,\n",
    "                     test_uniprot], axis=0)\n",
    "df_features.to_csv('features.csv', index=False)"
   ]
  },
  {
   "cell_type": "markdown",
   "metadata": {},
   "source": [
    "---"
   ]
  },
  {
   "cell_type": "markdown",
   "metadata": {},
   "source": [
    "## UniProt Prediction\n",
    "The classifier can be used on:\n",
    "- UniProt that are already in the dataset. The features *are not* recomputed but are retrieved from a table of saved features.\n",
    "- UniProt that are *not* in the dataset. For these we access uniprot.org to retrieve *only* the AA sequence (not the labels). If the given ID is invalid, then the function throws an exception.\n",
    "\n",
    "The classifier includes 3 functions ```get_features, predict_uniprot,``` and ```predict_uniprot_proba```."
   ]
  },
  {
   "cell_type": "code",
   "execution_count": 147,
   "metadata": {},
   "outputs": [],
   "source": [
    "# Get the amino acid sequence for the given UniProt\n",
    "# Throws an exception if the ID is invalid\n",
    "# Ex: retrieve_aa_seq('P30615') returns 'MSQLEHN.....RLIYLP'\n",
    "def retrieve_aa_seq(UniProt):\n",
    "    url='https://www.uniprot.org/uniprot/' + UniProt + '.fasta'\n",
    "    with urllib.request.urlopen(url) as response:\n",
    "        content = response.read().decode(\"utf-8\")\n",
    "    content = ''.join(content.split('\\n')[1:])\n",
    "    return content\n",
    "# FUNCTION END\n",
    "\n",
    "# Creates a df with UniProt, Position, AA, Label\n",
    "# The label is a dummy label (-1) and is discarded\n",
    "def create_x_df(aa_seq, uniprot):\n",
    "    len_prot = len(aa_seq)\n",
    "    position = list(range(1,len_prot+1))\n",
    "    aa = list(aa_seq)\n",
    "    uniprot_lst =  [uniprot for _ in range(len_prot)] \n",
    "    label =  [-1 for _ in range(len_prot)] \n",
    "    data = {'UniProt':uniprot_lst, 'Position':position, 'AA':aa, 'Label':label}\n",
    "    return pd.DataFrame(data)\n",
    "# FUNCTION END"
   ]
  },
  {
   "cell_type": "code",
   "execution_count": 148,
   "metadata": {},
   "outputs": [],
   "source": [
    "# Create Function for obtianing features\n",
    "def get_features(UniProt):\n",
    "    # Get features saved from both the test and train sets\n",
    "    features = pd.read_csv(\"features.csv\")\n",
    "    # If UniProt is in the original dataset, find the UniProt group and return the features\n",
    "    if UniProt in features.UniProt.values:\n",
    "        features_x = features.groupby(\"UniProt\").get_group(UniProt).iloc[:,1:] #.drop([\"level_1\"], axis=1)\n",
    "        return  select_columns(features_x,selected)\n",
    "        #return features_x\n",
    "    \n",
    "    # If UniProt is not in the dataset, retrieve the AA sequence from uniprot.org\n",
    "    aa_seq = retrieve_aa_seq(UniProt)\n",
    "    # Calculate the features \n",
    "    features,_,_ = get_x_y(create_x_df(aa_seq, UniProt), df=True)\n",
    "    return select_columns(features,selected)  \n",
    "    #return features_x\n",
    "# FUNCTION END\n",
    "\n",
    "# Create Function for obtaining predicitons\n",
    "def predict_uniprot(self, UniProt):\n",
    "    # Get features\n",
    "    X = self.get_features(UniProt)\n",
    "\n",
    "    # Make / return predictions\n",
    "    return self.predict(X)\n",
    "# FUNCTION END\n",
    "\n",
    "def predict_uniprot_proba(self, UniProt):\n",
    "    # Get features\n",
    "    X = self.get_features(UniProt)\n",
    "\n",
    "    # Make / return prediction probabilities\n",
    "    return self.predict_proba(X)\n",
    "# FUNCTION END"
   ]
  },
  {
   "cell_type": "code",
   "execution_count": 149,
   "metadata": {},
   "outputs": [],
   "source": [
    "clf.get_features = get_features\n",
    "clf.predict_uniprot = predict_uniprot\n",
    "clf.predict_uniprot_proba = predict_uniprot_proba"
   ]
  },
  {
   "cell_type": "markdown",
   "metadata": {},
   "source": [
    "#### Usage of the classifier\n",
    "Below are examples of how to use the classifier\n",
    "- Predict labels for P30615 which is already in the dataset\n",
    "- Predict probabilities for P30615 which is already in the dataset\n",
    "- Predict lables for Q10469 which is not in the original dataset"
   ]
  },
  {
   "cell_type": "code",
   "execution_count": 150,
   "metadata": {
    "collapsed": true
   },
   "outputs": [
    {
     "data": {
      "text/plain": [
       "array([0, 0, 0, 0, 0, 0, 0, 0, 0, 0, 0, 0, 0, 0, 0, 0, 0, 0, 0, 0, 0, 0,\n",
       "       0, 0, 0, 0, 0, 0, 0, 0, 0, 0, 0, 0, 0, 0, 0, 0, 0, 0, 0, 0, 0, 0,\n",
       "       0, 0, 0, 0, 0, 0, 0, 0, 0, 0, 0, 0, 0, 0, 0, 0, 0, 0, 0, 0, 0, 0,\n",
       "       0, 0, 0, 0, 1, 0, 1, 0, 0, 0, 0, 0, 0, 0, 0, 0, 0, 0, 0, 0, 0, 0,\n",
       "       0, 0, 0, 0, 0, 0, 0, 0, 0, 0, 0, 0, 0, 0, 0, 0, 0, 0, 0, 0, 0, 0,\n",
       "       0, 0, 0, 0, 0, 0, 0, 0, 0, 0, 0, 0, 0, 0, 0, 0, 0, 0, 0, 0, 0, 0,\n",
       "       0, 0, 0, 0, 0, 0, 0, 0, 0, 0, 0, 0, 0, 0, 0, 0, 0, 0, 0, 0, 0, 0,\n",
       "       0, 0, 0, 0, 0, 0, 0, 0, 0, 0, 0, 0, 0, 0, 0, 0, 0, 0, 0, 0, 0, 0,\n",
       "       0, 0, 0, 0, 0, 0, 0, 0, 0, 0, 0, 0, 0, 0, 0, 0, 0, 0, 0, 0, 0, 0,\n",
       "       0, 0, 0, 0, 0, 0, 0, 0, 0, 0, 0, 0, 0, 0, 0, 0, 0, 0, 0, 0, 0, 0,\n",
       "       0, 0, 0, 0, 0, 0, 0, 0, 0, 0, 0, 0, 0, 0, 0, 0, 0, 0, 0, 0, 0, 0,\n",
       "       0, 0, 0, 0, 0, 0, 0, 0, 0, 0, 0, 0, 0, 0, 0, 0, 0, 0, 0, 0, 0, 0,\n",
       "       0, 0, 0, 0, 0, 0, 0, 0, 0, 0, 0, 0, 0, 0, 0, 0, 0, 0, 0, 0, 0, 0,\n",
       "       0, 0, 0, 0, 0, 0, 0, 0, 0, 0, 0, 0, 0, 0, 0, 0, 0, 0, 0, 0, 0, 0,\n",
       "       0, 0, 0, 0, 0, 0, 0, 0, 0, 0, 0, 0, 0, 0, 0, 0, 0, 0, 0, 0, 0, 0,\n",
       "       0, 0, 0, 0, 0, 0, 0, 0, 0, 0, 0, 0, 0, 0, 0, 0, 0, 0, 0, 0, 0, 0,\n",
       "       0, 0, 0, 0, 0, 0, 0, 0, 0, 0, 0, 0, 0, 0, 0, 0, 0, 0, 0, 0, 0, 0,\n",
       "       0, 0, 0, 0, 0, 0, 0, 0, 0, 0, 0, 0, 0, 0, 1, 1, 1, 1, 1, 1, 1, 0,\n",
       "       0, 0, 0, 0, 0, 0, 0, 0, 0, 0, 0, 0, 0, 0, 0, 0, 0, 0, 0, 0, 0, 0,\n",
       "       0, 0, 0, 0, 0, 0, 0, 0, 0, 0, 0, 0, 0, 0, 0, 0, 0, 0, 0, 0, 0, 0,\n",
       "       0, 0, 0, 0, 0, 0, 0, 0, 0, 0, 0, 0, 0, 0, 0, 0, 0, 0, 0, 0, 0, 0,\n",
       "       0, 0, 0, 1, 1, 0, 0, 0, 0, 0, 0, 0, 0, 0, 0, 0, 0, 0, 0, 0, 0, 0,\n",
       "       0, 0, 0, 0, 0, 0, 0, 0, 0, 0, 0, 0, 0, 0, 0])"
      ]
     },
     "execution_count": 150,
     "metadata": {},
     "output_type": "execute_result"
    }
   ],
   "source": [
    "clf.predict_uniprot(clf, \"P30615\")"
   ]
  },
  {
   "cell_type": "code",
   "execution_count": 151,
   "metadata": {
    "collapsed": true
   },
   "outputs": [
    {
     "data": {
      "text/plain": [
       "array([[0.61702011, 0.38297989],\n",
       "       [0.61721862, 0.38278138],\n",
       "       [0.68645873, 0.31354127],\n",
       "       [0.65210276, 0.34789724],\n",
       "       [0.76328241, 0.23671759],\n",
       "       [0.77078309, 0.22921691],\n",
       "       [0.77078309, 0.22921691],\n",
       "       [0.75025545, 0.24974455],\n",
       "       [0.75260372, 0.24739628],\n",
       "       [0.75260372, 0.24739628],\n",
       "       [0.8450463 , 0.1549537 ],\n",
       "       [0.83131909, 0.16868091],\n",
       "       [0.81653006, 0.18346994],\n",
       "       [0.74993883, 0.25006117],\n",
       "       [0.77192106, 0.22807894],\n",
       "       [0.69963254, 0.30036746],\n",
       "       [0.65144763, 0.34855237],\n",
       "       [0.77233728, 0.22766272],\n",
       "       [0.81001835, 0.18998165],\n",
       "       [0.59049716, 0.40950284],\n",
       "       [0.59049716, 0.40950284],\n",
       "       [0.66251386, 0.33748614],\n",
       "       [0.73920625, 0.26079375],\n",
       "       [0.72542062, 0.27457938],\n",
       "       [0.82904747, 0.17095253],\n",
       "       [0.91410088, 0.08589912],\n",
       "       [0.91223194, 0.08776806],\n",
       "       [0.92727823, 0.07272177],\n",
       "       [0.93220671, 0.06779329],\n",
       "       [0.95559612, 0.04440388],\n",
       "       [0.94877057, 0.05122943],\n",
       "       [0.93498506, 0.06501494],\n",
       "       [0.93506159, 0.06493841],\n",
       "       [0.84800145, 0.15199855],\n",
       "       [0.69392199, 0.30607801],\n",
       "       [0.67825538, 0.32174462],\n",
       "       [0.60160384, 0.39839616],\n",
       "       [0.55871316, 0.44128684],\n",
       "       [0.50260595, 0.49739405],\n",
       "       [0.55944746, 0.44055254],\n",
       "       [0.68937496, 0.31062504],\n",
       "       [0.70615884, 0.29384116],\n",
       "       [0.80040192, 0.19959808],\n",
       "       [0.80741881, 0.19258119],\n",
       "       [0.7402641 , 0.2597359 ],\n",
       "       [0.77723733, 0.22276267],\n",
       "       [0.77723733, 0.22276267],\n",
       "       [0.83553965, 0.16446035],\n",
       "       [0.73766267, 0.26233733],\n",
       "       [0.65978241, 0.34021759],\n",
       "       [0.7189202 , 0.2810798 ],\n",
       "       [0.76966723, 0.23033277],\n",
       "       [0.83200912, 0.16799088],\n",
       "       [0.87396528, 0.12603472],\n",
       "       [0.85384034, 0.14615966],\n",
       "       [0.88648174, 0.11351826],\n",
       "       [0.85764322, 0.14235678],\n",
       "       [0.84512986, 0.15487014],\n",
       "       [0.83830396, 0.16169604],\n",
       "       [0.84949393, 0.15050607],\n",
       "       [0.75970052, 0.24029948],\n",
       "       [0.75147991, 0.24852009],\n",
       "       [0.7610021 , 0.2389979 ],\n",
       "       [0.79265426, 0.20734574],\n",
       "       [0.80877735, 0.19122265],\n",
       "       [0.76630681, 0.23369319],\n",
       "       [0.7463357 , 0.2536643 ],\n",
       "       [0.65514539, 0.34485461],\n",
       "       [0.51381751, 0.48618249],\n",
       "       [0.50958416, 0.49041584],\n",
       "       [0.46751715, 0.53248285],\n",
       "       [0.51905146, 0.48094854],\n",
       "       [0.49944119, 0.50055881],\n",
       "       [0.5251711 , 0.4748289 ],\n",
       "       [0.50222464, 0.49777536],\n",
       "       [0.61170055, 0.38829945],\n",
       "       [0.67058215, 0.32941785],\n",
       "       [0.67058215, 0.32941785],\n",
       "       [0.68673949, 0.31326051],\n",
       "       [0.74320816, 0.25679184],\n",
       "       [0.74108724, 0.25891276],\n",
       "       [0.7443907 , 0.2556093 ],\n",
       "       [0.8027491 , 0.1972509 ],\n",
       "       [0.90598891, 0.09401109],\n",
       "       [0.8562433 , 0.1437567 ],\n",
       "       [0.8562433 , 0.1437567 ],\n",
       "       [0.85983323, 0.14016677],\n",
       "       [0.9107133 , 0.0892867 ],\n",
       "       [0.93010897, 0.06989103],\n",
       "       [0.88776018, 0.11223982],\n",
       "       [0.86869779, 0.13130221],\n",
       "       [0.77928366, 0.22071634],\n",
       "       [0.69194765, 0.30805235],\n",
       "       [0.79734902, 0.20265098],\n",
       "       [0.7847562 , 0.2152438 ],\n",
       "       [0.7918949 , 0.2081051 ],\n",
       "       [0.81969507, 0.18030493],\n",
       "       [0.72239088, 0.27760912],\n",
       "       [0.70512469, 0.29487531],\n",
       "       [0.8572827 , 0.1427173 ],\n",
       "       [0.90266643, 0.09733357],\n",
       "       [0.90266643, 0.09733357],\n",
       "       [0.85264743, 0.14735257],\n",
       "       [0.86331348, 0.13668652],\n",
       "       [0.87729312, 0.12270688],\n",
       "       [0.82119336, 0.17880664],\n",
       "       [0.87550521, 0.12449479],\n",
       "       [0.9197875 , 0.0802125 ],\n",
       "       [0.9013087 , 0.0986913 ],\n",
       "       [0.91422874, 0.08577126],\n",
       "       [0.84081628, 0.15918372],\n",
       "       [0.85757871, 0.14242129],\n",
       "       [0.85049936, 0.14950064],\n",
       "       [0.83662121, 0.16337879],\n",
       "       [0.83662121, 0.16337879],\n",
       "       [0.88124625, 0.11875375],\n",
       "       [0.88124625, 0.11875375],\n",
       "       [0.84626138, 0.15373862],\n",
       "       [0.65958434, 0.34041566],\n",
       "       [0.80510134, 0.19489866],\n",
       "       [0.7358746 , 0.2641254 ],\n",
       "       [0.80161047, 0.19838953],\n",
       "       [0.82043635, 0.17956365],\n",
       "       [0.80041236, 0.19958764],\n",
       "       [0.69285134, 0.30714866],\n",
       "       [0.80411276, 0.19588724],\n",
       "       [0.81431325, 0.18568675],\n",
       "       [0.79940176, 0.20059824],\n",
       "       [0.81891673, 0.18108327],\n",
       "       [0.86225339, 0.13774661],\n",
       "       [0.85077636, 0.14922364],\n",
       "       [0.85861779, 0.14138221],\n",
       "       [0.8298713 , 0.1701287 ],\n",
       "       [0.89777348, 0.10222652],\n",
       "       [0.88829944, 0.11170056],\n",
       "       [0.90562555, 0.09437445],\n",
       "       [0.96073807, 0.03926193],\n",
       "       [0.93806174, 0.06193826],\n",
       "       [0.91090324, 0.08909676],\n",
       "       [0.93179185, 0.06820815],\n",
       "       [0.95364885, 0.04635115],\n",
       "       [0.95101067, 0.04898933],\n",
       "       [0.93529813, 0.06470187],\n",
       "       [0.9095813 , 0.0904187 ],\n",
       "       [0.8937251 , 0.1062749 ],\n",
       "       [0.89195746, 0.10804254],\n",
       "       [0.81944368, 0.18055632],\n",
       "       [0.81257535, 0.18742465],\n",
       "       [0.81257535, 0.18742465],\n",
       "       [0.7742101 , 0.2257899 ],\n",
       "       [0.77060891, 0.22939109],\n",
       "       [0.70690909, 0.29309091],\n",
       "       [0.63693147, 0.36306853],\n",
       "       [0.68363304, 0.31636696],\n",
       "       [0.68369375, 0.31630625],\n",
       "       [0.77747029, 0.22252971],\n",
       "       [0.82719827, 0.17280173],\n",
       "       [0.73099158, 0.26900842],\n",
       "       [0.77081112, 0.22918888],\n",
       "       [0.70337511, 0.29662489],\n",
       "       [0.7181271 , 0.2818729 ],\n",
       "       [0.70772864, 0.29227136],\n",
       "       [0.74022836, 0.25977164],\n",
       "       [0.76669227, 0.23330773],\n",
       "       [0.77420822, 0.22579178],\n",
       "       [0.76057215, 0.23942785],\n",
       "       [0.83013856, 0.16986144],\n",
       "       [0.75243153, 0.24756847],\n",
       "       [0.75212095, 0.24787905],\n",
       "       [0.77823625, 0.22176375],\n",
       "       [0.82171563, 0.17828437],\n",
       "       [0.77020763, 0.22979237],\n",
       "       [0.79226288, 0.20773712],\n",
       "       [0.78178098, 0.21821902],\n",
       "       [0.82377915, 0.17622085],\n",
       "       [0.79059088, 0.20940912],\n",
       "       [0.90442667, 0.09557333],\n",
       "       [0.93495179, 0.06504821],\n",
       "       [0.91561479, 0.08438521],\n",
       "       [0.90990611, 0.09009389],\n",
       "       [0.89274292, 0.10725708],\n",
       "       [0.87717959, 0.12282041],\n",
       "       [0.86022193, 0.13977807],\n",
       "       [0.8895979 , 0.1104021 ],\n",
       "       [0.89076222, 0.10923778],\n",
       "       [0.81801415, 0.18198585],\n",
       "       [0.79706048, 0.20293952],\n",
       "       [0.74305392, 0.25694608],\n",
       "       [0.76825944, 0.23174056],\n",
       "       [0.81840593, 0.18159407],\n",
       "       [0.78502053, 0.21497947],\n",
       "       [0.80916007, 0.19083993],\n",
       "       [0.70267858, 0.29732142],\n",
       "       [0.69739223, 0.30260777],\n",
       "       [0.70129872, 0.29870128],\n",
       "       [0.58214472, 0.41785528],\n",
       "       [0.66969049, 0.33030951],\n",
       "       [0.68048209, 0.31951791],\n",
       "       [0.56748122, 0.43251878],\n",
       "       [0.57051457, 0.42948543],\n",
       "       [0.7086616 , 0.2913384 ],\n",
       "       [0.68227201, 0.31772799],\n",
       "       [0.73038625, 0.26961375],\n",
       "       [0.76267698, 0.23732302],\n",
       "       [0.78831753, 0.21168247],\n",
       "       [0.7120507 , 0.2879493 ],\n",
       "       [0.66885214, 0.33114786],\n",
       "       [0.77961242, 0.22038758],\n",
       "       [0.75378582, 0.24621418],\n",
       "       [0.6679648 , 0.3320352 ],\n",
       "       [0.59379718, 0.40620282],\n",
       "       [0.66062918, 0.33937082],\n",
       "       [0.63769177, 0.36230823],\n",
       "       [0.53530033, 0.46469967],\n",
       "       [0.56665039, 0.43334961],\n",
       "       [0.61942264, 0.38057736],\n",
       "       [0.57131622, 0.42868378],\n",
       "       [0.55484034, 0.44515966],\n",
       "       [0.56534326, 0.43465674],\n",
       "       [0.56534326, 0.43465674],\n",
       "       [0.5267688 , 0.4732312 ],\n",
       "       [0.5267688 , 0.4732312 ],\n",
       "       [0.50314366, 0.49685634],\n",
       "       [0.63489944, 0.36510056],\n",
       "       [0.54814913, 0.45185087],\n",
       "       [0.52637929, 0.47362071],\n",
       "       [0.59956526, 0.40043474],\n",
       "       [0.685847  , 0.314153  ],\n",
       "       [0.77223595, 0.22776405],\n",
       "       [0.75154723, 0.24845277],\n",
       "       [0.7216308 , 0.2783692 ],\n",
       "       [0.76448115, 0.23551885],\n",
       "       [0.66134859, 0.33865141],\n",
       "       [0.77025661, 0.22974339],\n",
       "       [0.77025661, 0.22974339],\n",
       "       [0.68735587, 0.31264413],\n",
       "       [0.66294918, 0.33705082],\n",
       "       [0.66714799, 0.33285201],\n",
       "       [0.64874137, 0.35125863],\n",
       "       [0.713841  , 0.286159  ],\n",
       "       [0.82377114, 0.17622886],\n",
       "       [0.85422825, 0.14577175],\n",
       "       [0.79619635, 0.20380365],\n",
       "       [0.81257316, 0.18742684],\n",
       "       [0.81257316, 0.18742684],\n",
       "       [0.87307365, 0.12692635],\n",
       "       [0.87464889, 0.12535111],\n",
       "       [0.90056429, 0.09943571],\n",
       "       [0.88308463, 0.11691537],\n",
       "       [0.73621233, 0.26378767],\n",
       "       [0.64689634, 0.35310366],\n",
       "       [0.68647384, 0.31352616],\n",
       "       [0.68647384, 0.31352616],\n",
       "       [0.85087066, 0.14912934],\n",
       "       [0.77466412, 0.22533588],\n",
       "       [0.7112061 , 0.2887939 ],\n",
       "       [0.7726664 , 0.2273336 ],\n",
       "       [0.70694198, 0.29305802],\n",
       "       [0.74682444, 0.25317556],\n",
       "       [0.83693874, 0.16306126],\n",
       "       [0.82837327, 0.17162673],\n",
       "       [0.75543255, 0.24456745],\n",
       "       [0.75543255, 0.24456745],\n",
       "       [0.75882114, 0.24117886],\n",
       "       [0.70276297, 0.29723703],\n",
       "       [0.72003439, 0.27996561],\n",
       "       [0.88094633, 0.11905367],\n",
       "       [0.85564633, 0.14435367],\n",
       "       [0.78576926, 0.21423074],\n",
       "       [0.71898595, 0.28101405],\n",
       "       [0.71985608, 0.28014392],\n",
       "       [0.7076234 , 0.2923766 ],\n",
       "       [0.7076234 , 0.2923766 ],\n",
       "       [0.71821169, 0.28178831],\n",
       "       [0.71951929, 0.28048071],\n",
       "       [0.59900409, 0.40099591],\n",
       "       [0.64685547, 0.35314453],\n",
       "       [0.69362935, 0.30637065],\n",
       "       [0.62952474, 0.37047526],\n",
       "       [0.73083819, 0.26916181],\n",
       "       [0.67996772, 0.32003228],\n",
       "       [0.68859024, 0.31140976],\n",
       "       [0.76115827, 0.23884173],\n",
       "       [0.77337128, 0.22662872],\n",
       "       [0.76980755, 0.23019245],\n",
       "       [0.84659197, 0.15340803],\n",
       "       [0.84527228, 0.15472772],\n",
       "       [0.92209086, 0.07790914],\n",
       "       [0.85821175, 0.14178825],\n",
       "       [0.89163373, 0.10836627],\n",
       "       [0.89163373, 0.10836627],\n",
       "       [0.81309957, 0.18690043],\n",
       "       [0.84552368, 0.15447632],\n",
       "       [0.85802531, 0.14197469],\n",
       "       [0.80378357, 0.19621643],\n",
       "       [0.77659245, 0.22340755],\n",
       "       [0.62124312, 0.37875688],\n",
       "       [0.64655186, 0.35344814],\n",
       "       [0.62980127, 0.37019873],\n",
       "       [0.5871141 , 0.4128859 ],\n",
       "       [0.71361924, 0.28638076],\n",
       "       [0.72628814, 0.27371186],\n",
       "       [0.8557176 , 0.1442824 ],\n",
       "       [0.87627082, 0.12372918],\n",
       "       [0.96731701, 0.03268299],\n",
       "       [0.97317626, 0.02682374],\n",
       "       [0.96137596, 0.03862404],\n",
       "       [0.97536497, 0.02463503],\n",
       "       [0.96923412, 0.03076588],\n",
       "       [0.91206091, 0.08793909],\n",
       "       [0.90512142, 0.09487858],\n",
       "       [0.84078387, 0.15921613],\n",
       "       [0.85434241, 0.14565759],\n",
       "       [0.63879785, 0.36120215],\n",
       "       [0.67244903, 0.32755097],\n",
       "       [0.57420262, 0.42579738],\n",
       "       [0.63643851, 0.36356149],\n",
       "       [0.66807951, 0.33192049],\n",
       "       [0.69609509, 0.30390491],\n",
       "       [0.77737399, 0.22262601],\n",
       "       [0.66125203, 0.33874797],\n",
       "       [0.73181545, 0.26818455],\n",
       "       [0.81240083, 0.18759917],\n",
       "       [0.77480404, 0.22519596],\n",
       "       [0.77982537, 0.22017463],\n",
       "       [0.75141091, 0.24858909],\n",
       "       [0.83131804, 0.16868196],\n",
       "       [0.83906112, 0.16093888],\n",
       "       [0.75752839, 0.24247161],\n",
       "       [0.81625846, 0.18374154],\n",
       "       [0.77218238, 0.22781762],\n",
       "       [0.71017654, 0.28982346],\n",
       "       [0.78322851, 0.21677149],\n",
       "       [0.78792618, 0.21207382],\n",
       "       [0.83989068, 0.16010932],\n",
       "       [0.91699023, 0.08300977],\n",
       "       [0.89988166, 0.10011834],\n",
       "       [0.89988166, 0.10011834],\n",
       "       [0.85741687, 0.14258313],\n",
       "       [0.88372194, 0.11627806],\n",
       "       [0.87682696, 0.12317304],\n",
       "       [0.83384585, 0.16615415],\n",
       "       [0.84058445, 0.15941555],\n",
       "       [0.75546367, 0.24453633],\n",
       "       [0.585173  , 0.414827  ],\n",
       "       [0.57575711, 0.42424289],\n",
       "       [0.6486245 , 0.3513755 ],\n",
       "       [0.6486245 , 0.3513755 ],\n",
       "       [0.58046324, 0.41953676],\n",
       "       [0.54499489, 0.45500511],\n",
       "       [0.54021364, 0.45978636],\n",
       "       [0.62168665, 0.37831335],\n",
       "       [0.62168665, 0.37831335],\n",
       "       [0.6767343 , 0.3232657 ],\n",
       "       [0.72872276, 0.27127724],\n",
       "       [0.71368967, 0.28631033],\n",
       "       [0.84178991, 0.15821009],\n",
       "       [0.82471232, 0.17528768],\n",
       "       [0.82093397, 0.17906603],\n",
       "       [0.7361792 , 0.2638208 ],\n",
       "       [0.73586835, 0.26413165],\n",
       "       [0.7991701 , 0.2008299 ],\n",
       "       [0.7865058 , 0.2134942 ],\n",
       "       [0.78289525, 0.21710475],\n",
       "       [0.76773942, 0.23226058],\n",
       "       [0.67338455, 0.32661545],\n",
       "       [0.67171218, 0.32828782],\n",
       "       [0.70945216, 0.29054784],\n",
       "       [0.7263031 , 0.2736969 ],\n",
       "       [0.82910585, 0.17089415],\n",
       "       [0.75251147, 0.24748853],\n",
       "       [0.77263043, 0.22736957],\n",
       "       [0.84508584, 0.15491416],\n",
       "       [0.7884501 , 0.2115499 ],\n",
       "       [0.84534663, 0.15465337],\n",
       "       [0.78326581, 0.21673419],\n",
       "       [0.77382962, 0.22617038],\n",
       "       [0.74492669, 0.25507331],\n",
       "       [0.74009967, 0.25990033],\n",
       "       [0.81824391, 0.18175609],\n",
       "       [0.78569089, 0.21430911],\n",
       "       [0.66986822, 0.33013178],\n",
       "       [0.61642655, 0.38357345],\n",
       "       [0.59608939, 0.40391061],\n",
       "       [0.59608939, 0.40391061],\n",
       "       [0.66817855, 0.33182145],\n",
       "       [0.62809307, 0.37190693],\n",
       "       [0.54336641, 0.45663359],\n",
       "       [0.48778873, 0.51221127],\n",
       "       [0.48778873, 0.51221127],\n",
       "       [0.46344999, 0.53655001],\n",
       "       [0.46344999, 0.53655001],\n",
       "       [0.4631846 , 0.5368154 ],\n",
       "       [0.46160106, 0.53839894],\n",
       "       [0.47184558, 0.52815442],\n",
       "       [0.54544114, 0.45455886],\n",
       "       [0.52783742, 0.47216258],\n",
       "       [0.56191461, 0.43808539],\n",
       "       [0.63545745, 0.36454255],\n",
       "       [0.78814442, 0.21185558],\n",
       "       [0.81569869, 0.18430131],\n",
       "       [0.85781512, 0.14218488],\n",
       "       [0.85976447, 0.14023553],\n",
       "       [0.87253741, 0.12746259],\n",
       "       [0.87253741, 0.12746259],\n",
       "       [0.79819559, 0.20180441],\n",
       "       [0.79234854, 0.20765146],\n",
       "       [0.74410696, 0.25589304],\n",
       "       [0.63290662, 0.36709338],\n",
       "       [0.63290662, 0.36709338],\n",
       "       [0.79701514, 0.20298486],\n",
       "       [0.84130541, 0.15869459],\n",
       "       [0.86243431, 0.13756569],\n",
       "       [0.9344694 , 0.0655306 ],\n",
       "       [0.9344694 , 0.0655306 ],\n",
       "       [0.89573218, 0.10426782],\n",
       "       [0.90521704, 0.09478296],\n",
       "       [0.88455701, 0.11544299],\n",
       "       [0.90436672, 0.09563328],\n",
       "       [0.86473608, 0.13526392],\n",
       "       [0.86947998, 0.13052002],\n",
       "       [0.8223915 , 0.1776085 ],\n",
       "       [0.74014901, 0.25985099],\n",
       "       [0.7786907 , 0.2213093 ],\n",
       "       [0.76903372, 0.23096628],\n",
       "       [0.73932195, 0.26067805],\n",
       "       [0.69989572, 0.30010428],\n",
       "       [0.6477368 , 0.3522632 ],\n",
       "       [0.68137191, 0.31862809],\n",
       "       [0.70600248, 0.29399752],\n",
       "       [0.76097037, 0.23902963],\n",
       "       [0.75346466, 0.24653534],\n",
       "       [0.76163822, 0.23836178],\n",
       "       [0.74374315, 0.25625685],\n",
       "       [0.73522687, 0.26477313],\n",
       "       [0.78443371, 0.21556629],\n",
       "       [0.86549859, 0.13450141],\n",
       "       [0.84232388, 0.15767612],\n",
       "       [0.80436953, 0.19563047],\n",
       "       [0.78528286, 0.21471714],\n",
       "       [0.75322278, 0.24677722],\n",
       "       [0.66442257, 0.33557743],\n",
       "       [0.60368481, 0.39631519],\n",
       "       [0.66920179, 0.33079821],\n",
       "       [0.76744266, 0.23255734],\n",
       "       [0.73194372, 0.26805628],\n",
       "       [0.83595049, 0.16404951],\n",
       "       [0.86771447, 0.13228553],\n",
       "       [0.86771447, 0.13228553],\n",
       "       [0.9092534 , 0.0907466 ],\n",
       "       [0.96682589, 0.03317411],\n",
       "       [0.96682589, 0.03317411],\n",
       "       [0.95063161, 0.04936839],\n",
       "       [0.84258479, 0.15741521],\n",
       "       [0.70276336, 0.29723664],\n",
       "       [0.63992078, 0.36007922],\n",
       "       [0.67224446, 0.32775554],\n",
       "       [0.63181986, 0.36818014],\n",
       "       [0.639873  , 0.360127  ],\n",
       "       [0.67547494, 0.32452506],\n",
       "       [0.6322568 , 0.3677432 ],\n",
       "       [0.60433046, 0.39566954],\n",
       "       [0.59545183, 0.40454817],\n",
       "       [0.52934279, 0.47065721],\n",
       "       [0.55454977, 0.44545023],\n",
       "       [0.46549002, 0.53450998],\n",
       "       [0.4788134 , 0.5211866 ],\n",
       "       [0.53893212, 0.46106788],\n",
       "       [0.63871707, 0.36128293],\n",
       "       [0.79775589, 0.20224411],\n",
       "       [0.84378013, 0.15621987],\n",
       "       [0.83851602, 0.16148398],\n",
       "       [0.85152166, 0.14847834],\n",
       "       [0.85052393, 0.14947607],\n",
       "       [0.84280797, 0.15719203],\n",
       "       [0.88926035, 0.11073965],\n",
       "       [0.87872854, 0.12127146],\n",
       "       [0.7489526 , 0.2510474 ],\n",
       "       [0.71648556, 0.28351444],\n",
       "       [0.70099042, 0.29900958],\n",
       "       [0.76490904, 0.23509096],\n",
       "       [0.76490904, 0.23509096],\n",
       "       [0.75462864, 0.24537136],\n",
       "       [0.80336601, 0.19663399],\n",
       "       [0.81972051, 0.18027949],\n",
       "       [0.8952144 , 0.1047856 ],\n",
       "       [0.94484614, 0.05515386],\n",
       "       [0.94034692, 0.05965308],\n",
       "       [0.95320322, 0.04679678],\n",
       "       [0.92826758, 0.07173242],\n",
       "       [0.89358133, 0.10641867],\n",
       "       [0.89144311, 0.10855689],\n",
       "       [0.85529405, 0.14470595],\n",
       "       [0.8351751 , 0.1648249 ],\n",
       "       [0.8351751 , 0.1648249 ],\n",
       "       [0.79450651, 0.20549349],\n",
       "       [0.78897056, 0.21102944],\n",
       "       [0.76268011, 0.23731989],\n",
       "       [0.73724009, 0.26275991]])"
      ]
     },
     "execution_count": 151,
     "metadata": {},
     "output_type": "execute_result"
    }
   ],
   "source": [
    "clf.predict_uniprot_proba(clf, \"P30615\")"
   ]
  },
  {
   "cell_type": "code",
   "execution_count": 152,
   "metadata": {
    "collapsed": true
   },
   "outputs": [
    {
     "data": {
      "text/plain": [
       "array([0, 0, 0, 0, 0, 0, 0, 0, 0, 0, 0, 0, 0, 0, 0, 0, 0, 0, 0, 0, 0, 0,\n",
       "       0, 0, 0, 0, 0, 0, 0, 0, 0, 0, 0, 0, 0, 0, 0, 0, 0, 0, 0, 0, 0, 0,\n",
       "       0, 0, 0, 0, 0, 0, 0, 0, 0, 0, 0, 0, 0, 0, 0, 0, 0, 0, 0, 0, 0, 0,\n",
       "       0, 0, 0, 0, 0, 0, 0, 0, 0, 0, 0, 0, 0, 0, 0, 0, 0, 0, 0, 0, 0, 0,\n",
       "       0, 0, 0, 0, 0, 0, 0, 0, 0, 0, 0, 0, 0, 0, 0, 0, 0, 0, 0, 0, 0, 0,\n",
       "       0, 0, 0, 0, 0, 0, 0, 0, 0, 0, 0, 0, 0, 0, 0, 0, 0, 0, 0, 0, 0, 0,\n",
       "       0, 0, 0, 0, 0, 0, 0, 0, 0, 0, 0, 0, 0, 0, 0, 0, 0, 0, 0, 0, 0, 0,\n",
       "       0, 0, 0, 0, 0, 0, 0, 0, 0, 0, 0, 0, 0, 0, 0, 0, 0, 0, 0, 0, 0, 0,\n",
       "       0, 0, 0, 0, 0, 0, 0, 0, 0, 0, 0, 0, 0, 0, 0, 0, 0, 0, 0, 0, 0, 0,\n",
       "       0, 0, 0, 0, 0, 0, 0, 0, 0, 0, 0, 0, 0, 0, 0, 0, 0, 0, 0, 0, 0, 0,\n",
       "       0, 0, 0, 0, 0, 0, 0, 0, 0, 0, 0, 0, 0, 0, 0, 0, 0, 0, 0, 0, 0, 0,\n",
       "       0, 0, 0, 0, 0, 0, 0, 0, 0, 0, 0, 0, 0, 0, 0, 1, 0, 1, 1, 0, 0, 0,\n",
       "       0, 0, 0, 0, 0, 0, 0, 0, 0, 0, 0, 0, 0, 0, 0, 0, 0, 0, 0, 0, 0, 0,\n",
       "       0, 0, 0, 0, 0, 0, 0, 0, 0, 0, 0, 0, 0, 0, 0, 0, 0, 0, 0, 0, 0, 0,\n",
       "       0, 0, 0, 0, 0, 0, 0, 0, 0, 0, 0, 0, 0, 0, 0, 0, 0, 0, 0, 0, 0, 0,\n",
       "       0, 0, 0, 0, 0, 0, 0, 0, 0, 0, 0, 0, 0, 0, 0, 0, 0, 0, 0, 0, 0, 0,\n",
       "       0, 0, 0, 0, 0, 0, 0, 0, 0, 0, 0, 0, 0, 0, 0, 0, 0, 0, 0, 0, 0, 0,\n",
       "       0, 0, 0, 0, 0, 0, 0, 0, 0, 0, 0, 0, 0, 0, 0, 0, 0, 0, 0, 0, 0, 0,\n",
       "       0, 0, 0, 0, 0, 0, 0, 0, 0, 0, 0, 0, 0, 0, 0, 0, 0, 0, 0, 0, 0, 0,\n",
       "       0, 0, 0, 0, 0, 0, 0, 0, 0, 0, 0, 0, 0, 0, 0, 0, 0, 0, 0, 0, 0, 0,\n",
       "       0, 0, 0, 0, 0, 0, 0])"
      ]
     },
     "execution_count": 152,
     "metadata": {},
     "output_type": "execute_result"
    }
   ],
   "source": [
    "clf.predict_uniprot(clf, \"Q10469\")"
   ]
  },
  {
   "cell_type": "code",
   "execution_count": null,
   "metadata": {},
   "outputs": [],
   "source": []
  },
  {
   "cell_type": "markdown",
   "metadata": {},
   "source": [
    "---"
   ]
  },
  {
   "cell_type": "markdown",
   "metadata": {},
   "source": [
    "## K Nearest Neighbors\n",
    "Besides the Random Forest classifier, we can try other methods. Below, we perform hyperparameter optimization with Grid Search CV with 45, 60, and 80 nearest neighbors to consider. \n",
    "We get that 60 nearest neighbors gets the best result."
   ]
  },
  {
   "cell_type": "code",
   "execution_count": 46,
   "metadata": {},
   "outputs": [
    {
     "data": {
      "text/plain": [
       "0.8008709910608812"
      ]
     },
     "execution_count": 46,
     "metadata": {},
     "output_type": "execute_result"
    }
   ],
   "source": [
    "knn = KNeighborsClassifier()\n",
    "parameters = {'n_neighbors':[45,60,80]}\n",
    "# Create the CV search grid\n",
    "knn_grid = GridSearchCV(knn, parameters, n_jobs=-1)\n",
    "# Fit models with different parameters. Using 1/3 of the dataset for timeout reasons.\n",
    "knn_grid.fit(train_x[:97480], train_y[:97480])"
   ]
  },
  {
   "cell_type": "code",
   "execution_count": 47,
   "metadata": {},
   "outputs": [
    {
     "data": {
      "text/plain": [
       "{'n_neighbors': 60}"
      ]
     },
     "execution_count": 47,
     "metadata": {},
     "output_type": "execute_result"
    }
   ],
   "source": [
    "knn_grid.best_params_"
   ]
  },
  {
   "cell_type": "code",
   "execution_count": 153,
   "metadata": {},
   "outputs": [
    {
     "data": {
      "text/plain": [
       "0.8073946083184935"
      ]
     },
     "execution_count": 153,
     "metadata": {},
     "output_type": "execute_result"
    }
   ],
   "source": [
    "# Using 60 neighbors as chosen by the grid search\n",
    "knn = KNeighborsClassifier(n_neighbors=60)\n",
    "knn.fit(train_x, train_y)\n",
    "# Accuracy using the validation set\n",
    "knn.score(val_x, val_y)"
   ]
  },
  {
   "cell_type": "markdown",
   "metadata": {},
   "source": [
    "The AUC using the validation set for KNN classifier is 0.68."
   ]
  },
  {
   "cell_type": "code",
   "execution_count": 154,
   "metadata": {},
   "outputs": [
    {
     "data": {
      "text/plain": [
       "0.6796386988604095"
      ]
     },
     "execution_count": 154,
     "metadata": {},
     "output_type": "execute_result"
    }
   ],
   "source": [
    "knn_pred = knn.predict_proba(val_x)[:, 1]\n",
    "knn_auc = roc_auc_score(val_y, knn_pred)\n",
    "knn_auc"
   ]
  },
  {
   "cell_type": "code",
   "execution_count": 155,
   "metadata": {},
   "outputs": [
    {
     "data": {
      "image/png": "[encoded data removed]",
      "text/plain": [
       "<Figure size 432x288 with 1 Axes>"
      ]
     },
     "metadata": {
      "needs_background": "light"
     },
     "output_type": "display_data"
    }
   ],
   "source": [
    "svc_disp = plot_roc_curve(knn, val_x, val_y)\n",
    "plt.show()"
   ]
  },
  {
   "cell_type": "code",
   "execution_count": 156,
   "metadata": {},
   "outputs": [],
   "source": [
    "# Set the functions for individual predictions\n",
    "knn.get_features = get_features\n",
    "knn.predict_uniprot = predict_uniprot\n",
    "knn.predict_uniprot_proba = predict_uniprot_proba"
   ]
  },
  {
   "cell_type": "code",
   "execution_count": 157,
   "metadata": {
    "scrolled": true
   },
   "outputs": [
    {
     "data": {
      "text/plain": [
       "0.777963002391619"
      ]
     },
     "execution_count": 157,
     "metadata": {},
     "output_type": "execute_result"
    }
   ],
   "source": [
    "# Get fold indicies\n",
    "cv = yield_cv_fold_indicies(train_uniprot)\n",
    "# Perform cross validation\n",
    "cv_score_arr = cross_val_score(knn, train_x_array, train_y_array, cv=cv)\n",
    "# Get the mean accuracy rate from the 5 folds.\n",
    "np.mean(cv_score_arr)"
   ]
  },
  {
   "cell_type": "markdown",
   "metadata": {},
   "source": [
    "The accuracy using 5-fold CV is 77.8%."
   ]
  },
  {
   "cell_type": "code",
   "execution_count": null,
   "metadata": {},
   "outputs": [],
   "source": []
  },
  {
   "cell_type": "code",
   "execution_count": null,
   "metadata": {},
   "outputs": [],
   "source": []
  },
  {
   "cell_type": "markdown",
   "metadata": {},
   "source": [
    "## AdaBoost Classifier\n",
    "We can also try an AdaBoost classifier with Decision Tree. \n",
    "The resulting AUC is 0.71."
   ]
  },
  {
   "cell_type": "code",
   "execution_count": 158,
   "metadata": {},
   "outputs": [
    {
     "data": {
      "text/plain": [
       "0.8067246151947388"
      ]
     },
     "execution_count": 158,
     "metadata": {},
     "output_type": "execute_result"
    }
   ],
   "source": [
    "# Create AdaBoost instance\n",
    "adab = AdaBoostClassifier(n_estimators=100)\n",
    "# Fit the model\n",
    "adab.fit(train_x, train_y)\n",
    "# Accuracy based on the validation set\n",
    "adab.score(val_x, val_y)"
   ]
  },
  {
   "cell_type": "markdown",
   "metadata": {},
   "source": [
    "The AUC using the validation set for AdaBoost classifier is 0.713."
   ]
  },
  {
   "cell_type": "code",
   "execution_count": 159,
   "metadata": {},
   "outputs": [
    {
     "data": {
      "text/plain": [
       "0.712757803354982"
      ]
     },
     "execution_count": 159,
     "metadata": {},
     "output_type": "execute_result"
    }
   ],
   "source": [
    "adab_pred = adab.predict_proba(val_x)[:, 1]\n",
    "adab_auc = roc_auc_score(val_y, adab_pred)\n",
    "adab_auc"
   ]
  },
  {
   "cell_type": "code",
   "execution_count": 160,
   "metadata": {},
   "outputs": [
    {
     "data": {
      "image/png": "[encoded data removed]",
      "text/plain": [
       "<Figure size 432x288 with 1 Axes>"
      ]
     },
     "metadata": {
      "needs_background": "light"
     },
     "output_type": "display_data"
    }
   ],
   "source": [
    "svc_disp = plot_roc_curve(adab, val_x, val_y)\n",
    "plt.show()"
   ]
  },
  {
   "cell_type": "code",
   "execution_count": 161,
   "metadata": {},
   "outputs": [],
   "source": [
    "# Set the functions for individual predictions\n",
    "adab.get_features = get_features\n",
    "adab.predict_uniprot = predict_uniprot\n",
    "adab.predict_uniprot_proba = predict_uniprot_proba"
   ]
  },
  {
   "cell_type": "code",
   "execution_count": 162,
   "metadata": {},
   "outputs": [
    {
     "data": {
      "text/plain": [
       "0.7784151441796876"
      ]
     },
     "execution_count": 162,
     "metadata": {},
     "output_type": "execute_result"
    }
   ],
   "source": [
    "# Get fold indicies\n",
    "cv = yield_cv_fold_indicies(train_uniprot)\n",
    "# Perform cross validation\n",
    "cv_score_arr = cross_val_score(adab, train_x_array, train_y_array, cv=cv)\n",
    "# Get the mean accuracy rate from the 5 folds.\n",
    "np.mean(cv_score_arr)"
   ]
  },
  {
   "cell_type": "markdown",
   "metadata": {},
   "source": [
    "The accuracy using 5-fold CV is 78%."
   ]
  },
  {
   "cell_type": "code",
   "execution_count": null,
   "metadata": {},
   "outputs": [],
   "source": []
  },
  {
   "cell_type": "markdown",
   "metadata": {},
   "source": [
    "### Graphing ROC based on testing set using three models"
   ]
  },
  {
   "cell_type": "code",
   "execution_count": 163,
   "metadata": {},
   "outputs": [
    {
     "data": {
      "text/plain": [
       "0.7167357597300691"
      ]
     },
     "execution_count": 163,
     "metadata": {},
     "output_type": "execute_result"
    }
   ],
   "source": [
    "# Get AUC\n",
    "rf_pred = clf.predict_proba(test_x)[:, 1]\n",
    "rf_auc = roc_auc_score(test_y, rf_pred)\n",
    "knn_pred = knn.predict_proba(test_x)[:, 1]\n",
    "knn_auc = roc_auc_score(test_y, knn_pred)\n",
    "adab_pred = adab.predict_proba(test_x)[:, 1]\n",
    "adab_auc = roc_auc_score(test_y, adab.predict_proba(test_x)[:, 1])"
   ]
  },
  {
   "cell_type": "code",
   "execution_count": 164,
   "metadata": {},
   "outputs": [
    {
     "data": {
      "image/png": "[encoded data removed]",
      "text/plain": [
       "<Figure size 432x288 with 1 Axes>"
      ]
     },
     "metadata": {
      "needs_background": "light"
     },
     "output_type": "display_data"
    }
   ],
   "source": [
    "rf_fpr, rf_tpr, _ = roc_curve(test_y, rf_pred)\n",
    "knn_fpr, knn_tpr, _ = roc_curve(test_y, knn_pred)\n",
    "adab_fpr, adab_tpr, _ = roc_curve(test_y, adab_pred)\n",
    "\n",
    "plt.figure()\n",
    "plt.title('ROC curve')\n",
    "plt.plot([0, 1], [0, 1], 'k--')\n",
    "plt.plot(rf_fpr, rf_tpr, color='navy', label='Random Forest (area = %0.3f)' % rf_auc) \n",
    "plt.plot(knn_fpr, knn_tpr, color='forestgreen', label='KNN (area = %0.3f)' % knn_auc) \n",
    "plt.plot(adab_fpr, adab_tpr, color='coral', label='AdaBoost (area = %0.3f)' % adab_auc) \n",
    "plt.legend(loc='lower right')\n",
    "plt.show()"
   ]
  },
  {
   "cell_type": "code",
   "execution_count": null,
   "metadata": {},
   "outputs": [],
   "source": []
  },
  {
   "cell_type": "code",
   "execution_count": null,
   "metadata": {},
   "outputs": [],
   "source": []
  },
  {
   "cell_type": "markdown",
   "metadata": {},
   "source": [
    "### Exporting the models\n",
    "Now we can export the three models (Random Forest, AdaBoost, and KNN) to use them on the website."
   ]
  },
  {
   "cell_type": "code",
   "execution_count": 165,
   "metadata": {},
   "outputs": [
    {
     "data": {
      "text/plain": [
       "['final_clf.joblib']"
      ]
     },
     "execution_count": 165,
     "metadata": {},
     "output_type": "execute_result"
    }
   ],
   "source": [
    "dump(clf, 'final_clf.joblib') "
   ]
  },
  {
   "cell_type": "code",
   "execution_count": 166,
   "metadata": {},
   "outputs": [
    {
     "data": {
      "text/plain": [
       "['knn_clf.joblib']"
      ]
     },
     "execution_count": 166,
     "metadata": {},
     "output_type": "execute_result"
    }
   ],
   "source": [
    "dump(knn, 'knn_clf.joblib') "
   ]
  },
  {
   "cell_type": "code",
   "execution_count": 167,
   "metadata": {},
   "outputs": [
    {
     "data": {
      "text/plain": [
       "['adab_clf.joblib']"
      ]
     },
     "execution_count": 167,
     "metadata": {},
     "output_type": "execute_result"
    }
   ],
   "source": [
    "dump(adab, 'adab_clf.joblib') "
   ]
  },
  {
   "cell_type": "code",
   "execution_count": null,
   "metadata": {},
   "outputs": [],
   "source": []
  },
  {
   "cell_type": "markdown",
   "metadata": {},
   "source": [
    "**To use these in another file, please copy over model.py and make sure that the path to features.csv is correct. Then import ```from model import get_features, predict_uniprot, predict_uniprot_proba``` along with the classifier.**"
   ]
  },
  {
   "cell_type": "code",
   "execution_count": 168,
   "metadata": {},
   "outputs": [
    {
     "data": {
      "text/plain": [
       "array([0, 0, 0, 0, 0, 0, 0, 0, 0, 0, 0, 0, 0, 0, 0, 0, 0, 0, 0, 0, 0, 0,\n",
       "       0, 0, 0, 0, 0, 0, 0, 0, 0, 0, 0, 0, 0, 0, 0, 0, 0, 0, 0, 0, 0, 0,\n",
       "       0, 0, 0, 0, 0, 0, 0, 0, 0, 0, 0, 0, 0, 0, 0, 0, 0, 0, 0, 0, 0, 0,\n",
       "       0, 0, 0, 0, 1, 0, 1, 0, 0, 0, 0, 0, 0, 0, 0, 0, 0, 0, 0, 0, 0, 0,\n",
       "       0, 0, 0, 0, 0, 0, 0, 0, 0, 0, 0, 0, 0, 0, 0, 0, 0, 0, 0, 0, 0, 0,\n",
       "       0, 0, 0, 0, 0, 0, 0, 0, 0, 0, 0, 0, 0, 0, 0, 0, 0, 0, 0, 0, 0, 0,\n",
       "       0, 0, 0, 0, 0, 0, 0, 0, 0, 0, 0, 0, 0, 0, 0, 0, 0, 0, 0, 0, 0, 0,\n",
       "       0, 0, 0, 0, 0, 0, 0, 0, 0, 0, 0, 0, 0, 0, 0, 0, 0, 0, 0, 0, 0, 0,\n",
       "       0, 0, 0, 0, 0, 0, 0, 0, 0, 0, 0, 0, 0, 0, 0, 0, 0, 0, 0, 0, 0, 0,\n",
       "       0, 0, 0, 0, 0, 0, 0, 0, 0, 0, 0, 0, 0, 0, 0, 0, 0, 0, 0, 0, 0, 0,\n",
       "       0, 0, 0, 0, 0, 0, 0, 0, 0, 0, 0, 0, 0, 0, 0, 0, 0, 0, 0, 0, 0, 0,\n",
       "       0, 0, 0, 0, 0, 0, 0, 0, 0, 0, 0, 0, 0, 0, 0, 0, 0, 0, 0, 0, 0, 0,\n",
       "       0, 0, 0, 0, 0, 0, 0, 0, 0, 0, 0, 0, 0, 0, 0, 0, 0, 0, 0, 0, 0, 0,\n",
       "       0, 0, 0, 0, 0, 0, 0, 0, 0, 0, 0, 0, 0, 0, 0, 0, 0, 0, 0, 0, 0, 0,\n",
       "       0, 0, 0, 0, 0, 0, 0, 0, 0, 0, 0, 0, 0, 0, 0, 0, 0, 0, 0, 0, 0, 0,\n",
       "       0, 0, 0, 0, 0, 0, 0, 0, 0, 0, 0, 0, 0, 0, 0, 0, 0, 0, 0, 0, 0, 0,\n",
       "       0, 0, 0, 0, 0, 0, 0, 0, 0, 0, 0, 0, 0, 0, 0, 0, 0, 0, 0, 0, 0, 0,\n",
       "       0, 0, 0, 0, 0, 0, 0, 0, 0, 0, 0, 0, 0, 0, 1, 1, 1, 1, 1, 1, 1, 0,\n",
       "       0, 0, 0, 0, 0, 0, 0, 0, 0, 0, 0, 0, 0, 0, 0, 0, 0, 0, 0, 0, 0, 0,\n",
       "       0, 0, 0, 0, 0, 0, 0, 0, 0, 0, 0, 0, 0, 0, 0, 0, 0, 0, 0, 0, 0, 0,\n",
       "       0, 0, 0, 0, 0, 0, 0, 0, 0, 0, 0, 0, 0, 0, 0, 0, 0, 0, 0, 0, 0, 0,\n",
       "       0, 0, 0, 1, 1, 0, 0, 0, 0, 0, 0, 0, 0, 0, 0, 0, 0, 0, 0, 0, 0, 0,\n",
       "       0, 0, 0, 0, 0, 0, 0, 0, 0, 0, 0, 0, 0, 0, 0])"
      ]
     },
     "execution_count": 168,
     "metadata": {},
     "output_type": "execute_result"
    }
   ],
   "source": [
    "clf2 = load('final_clf.joblib') \n",
    "clf2.predict_uniprot(clf2, 'P30615')"
   ]
  },
  {
   "cell_type": "code",
   "execution_count": null,
   "metadata": {},
   "outputs": [],
   "source": [
    "\n"
   ]
  },
  {
   "cell_type": "code",
   "execution_count": null,
   "metadata": {},
   "outputs": [],
   "source": []
  },
  {
   "cell_type": "markdown",
   "metadata": {},
   "source": [
    "See the website here:\n",
    "http://bscb-teaching.cb.bscb.cornell.edu/~kvz3/index.html"
   ]
  },
  {
   "cell_type": "code",
   "execution_count": null,
   "metadata": {},
   "outputs": [],
   "source": []
  },
  {
   "cell_type": "code",
   "execution_count": null,
   "metadata": {},
   "outputs": [],
   "source": []
  },
  {
   "cell_type": "code",
   "execution_count": null,
   "metadata": {},
   "outputs": [],
   "source": []
  },
  {
   "cell_type": "code",
   "execution_count": null,
   "metadata": {},
   "outputs": [],
   "source": []
  }
 ],
 "metadata": {
  "kernelspec": {
   "display_name": "Python 3",
   "language": "python",
   "name": "python3"
  },
  "language_info": {
   "codemirror_mode": {
    "name": "ipython",
    "version": 3
   },
   "file_extension": ".py",
   "mimetype": "text/x-python",
   "name": "python",
   "nbconvert_exporter": "python",
   "pygments_lexer": "ipython3",
   "version": "3.8.5"
  }
 },
 "nbformat": 4,
 "nbformat_minor": 2
}
